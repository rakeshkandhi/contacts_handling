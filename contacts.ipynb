{
 "cells": [
  {
   "cell_type": "code",
   "execution_count": null,
   "id": "92bec4e4-e3c1-4afa-83ea-611a006b0328",
   "metadata": {},
   "outputs": [],
   "source": [
    "import pandas as pd"
   ]
  },
  {
   "cell_type": "code",
   "execution_count": null,
   "id": "fa02db22-4b1e-41fa-be70-b27af30357cf",
   "metadata": {},
   "outputs": [],
   "source": [
    "df = pd.read_csv(\"./contacts.csv\")"
   ]
  },
  {
   "cell_type": "code",
   "execution_count": null,
   "id": "94f59e2e-7962-4ee7-a72b-23f5f13dd99c",
   "metadata": {},
   "outputs": [],
   "source": [
    "df"
   ]
  },
  {
   "cell_type": "code",
   "execution_count": null,
   "id": "46b1e90c-06b3-4e3e-8f41-e028c016eeca",
   "metadata": {},
   "outputs": [],
   "source": [
    "df[\"Phone Numbers\"] = df[\"Phone Numbers\"].replace(\"-\", \"\", regex=True)"
   ]
  },
  {
   "cell_type": "code",
   "execution_count": null,
   "id": "9009dbaf-b35c-413e-838e-b5e2a3e4bef1",
   "metadata": {},
   "outputs": [],
   "source": [
    "df = df[df[\"Phone Numbers\"].notnull()].reset_index()\n",
    "df"
   ]
  },
  {
   "cell_type": "code",
   "execution_count": null,
   "id": "822eb0e1-7a3c-4e5f-b65c-e59ab43e5ba2",
   "metadata": {},
   "outputs": [],
   "source": [
    "def remove_duplicates(phone_numbers):\n",
    "    phone_list = [phone.strip() for phone in phone_numbers.split(\",\")]\n",
    "    unique_phones = list(set(phone_list))\n",
    "    return \", \".join(unique_phones)\n",
    "\n",
    "\n",
    "df[\"Phone Numbers\"] = df[\"Phone Numbers\"].apply(remove_duplicates)"
   ]
  },
  {
   "cell_type": "code",
   "execution_count": null,
   "id": "493723ba-a252-4c0f-affe-20a091ad85c6",
   "metadata": {},
   "outputs": [],
   "source": [
    "df.to_csv(\"./ContactsInVCF.vcf\", index=False)"
   ]
  },
  {
   "cell_type": "code",
   "execution_count": null,
   "id": "f7cf2fa6-85a4-4f78-b0c9-cb5f592f0b4a",
   "metadata": {},
   "outputs": [],
   "source": []
  },
  {
   "cell_type": "code",
   "execution_count": null,
   "id": "4719ae67-25e0-4c25-ba24-965b15ee9f89",
   "metadata": {},
   "outputs": [],
   "source": []
  },
  {
   "cell_type": "code",
   "execution_count": null,
   "id": "adbc56a7-addd-4702-9c75-86a927f16f48",
   "metadata": {},
   "outputs": [],
   "source": []
  },
  {
   "cell_type": "code",
   "execution_count": null,
   "id": "b3a3ae3a-b211-4d14-89f8-25a26074eb97",
   "metadata": {},
   "outputs": [],
   "source": []
  },
  {
   "cell_type": "code",
   "execution_count": null,
   "id": "cdcc89fc-7103-405b-9630-1e3c2d369f87",
   "metadata": {},
   "outputs": [],
   "source": [
    "from main import csv_to_vcf, save_vcf_to_text, vcf_to_sorted_csv"
   ]
  },
  {
   "cell_type": "code",
   "execution_count": null,
   "id": "e9dd5822-343c-45da-8f93-c64128dcf96c",
   "metadata": {},
   "outputs": [],
   "source": [
    "save_vcf_to_text(\"./contacts.vcf\",\"./contacts.txt\")"
   ]
  },
  {
   "cell_type": "code",
   "execution_count": null,
   "id": "f8d6aa8e-a2cd-464d-a10b-28ccaea5da75",
   "metadata": {},
   "outputs": [],
   "source": [
    "vcf_to_sorted_csv(\"./contacts.vcf\",\"./contacts.csv\")"
   ]
  },
  {
   "cell_type": "code",
   "execution_count": null,
   "id": "b42de509-4ee4-44b7-819a-f18030dd633c",
   "metadata": {},
   "outputs": [],
   "source": []
  }
 ],
 "metadata": {
  "kernelspec": {
   "display_name": "Python 3 (ipykernel)",
   "language": "python",
   "name": "python3"
  },
  "language_info": {
   "codemirror_mode": {
    "name": "ipython",
    "version": 3
   },
   "file_extension": ".py",
   "mimetype": "text/x-python",
   "name": "python",
   "nbconvert_exporter": "python",
   "pygments_lexer": "ipython3",
   "version": "3.12.4"
  }
 },
 "nbformat": 4,
 "nbformat_minor": 5
}
